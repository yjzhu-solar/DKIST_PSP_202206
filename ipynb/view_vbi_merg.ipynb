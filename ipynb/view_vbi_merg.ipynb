{
 "cells": [
  {
   "cell_type": "code",
   "execution_count": 1,
   "metadata": {},
   "outputs": [],
   "source": [
    "import numpy as np\n",
    "import matplotlib.pyplot as plt\n",
    "import juanfit\n",
    "from astropy.io import fits\n",
    "from astropy.nddata import CCDData\n",
    "from astropy.visualization import ImageNormalize, SqrtStretch, LogStretch, ZScaleInterval\n",
    "from astropy.wcs import WCS\n",
    "from astropy.coordinates import SkyCoord, SpectralCoord\n",
    "from astropy.wcs.utils import celestial_frame_to_wcs\n",
    "import astropy.units as u\n",
    "from sunpy.coordinates.frames import Helioprojective\n",
    "from ccdproc import ImageFileCollection\n",
    "from glob import glob\n",
    "import os\n",
    "import cmcrameri.cm as cmcm\n",
    "from mpl_toolkits.axes_grid1.inset_locator import inset_axes\n",
    "from matplotlib.ticker import AutoLocator, AutoMinorLocator, FixedLocator, FixedFormatter, LogLocator, StrMethodFormatter\n",
    "import dkist\n",
    "from reproject.mosaicking import find_optimal_celestial_wcs, reproject_and_coadd\n",
    "from reproject import reproject_exact, reproject_exact, reproject_interp\n",
    "import copy\n",
    "import h5py"
   ]
  },
  {
   "cell_type": "code",
   "execution_count": 2,
   "metadata": {},
   "outputs": [],
   "source": [
    "CaII_asdf_file = \"../src/DKIST/pid_1_118/BJLKB/VBI_L1_20220602T172155_BJLKB.asdf\"\n",
    "Gband_asdf_file = \"../src/DKIST/pid_1_118/BKJYA/VBI_L1_20220602T172222_BKJYA.asdf\"\n",
    "Hbeta_asdf_file = \"../src/DKIST/pid_1_118/BLKGA/VBI_L1_20220602T172250_BLKGA.asdf\""
   ]
  },
  {
   "cell_type": "code",
   "execution_count": 3,
   "metadata": {},
   "outputs": [],
   "source": [
    "CaII_merg_file = \"../sav/VBI_CaII_merg_test.h5\"\n",
    "Gband_merg_file = \"../sav/VBI_Gband_test.h5\"\n",
    "Hbeta_merg_file = \"../sav/Hbeta_test.h5\""
   ]
  },
  {
   "cell_type": "code",
   "execution_count": 4,
   "metadata": {},
   "outputs": [],
   "source": [
    "with h5py.File(CaII_merg_file,\"r\") as hf:\n",
    "    CaII_image = hf[\"vbi_merg\"][:]\n",
    "with h5py.File(Gband_merg_file,\"r\") as hf:\n",
    "    Gband_image = hf[\"vbi_merg\"][:]\n",
    "with h5py.File(Hbeta_merg_file,\"r\") as hf:\n",
    "    Hbeta_image = hf[\"vbi_merg\"][:]"
   ]
  },
  {
   "cell_type": "code",
   "execution_count": 5,
   "metadata": {},
   "outputs": [],
   "source": [
    "ds_CaII = dkist.Dataset.from_asdf(CaII_asdf_file)\n",
    "ds_Gband = dkist.Dataset.from_asdf(Gband_asdf_file)\n",
    "ds_Hbeta = dkist.Dataset.from_asdf(Hbeta_asdf_file)"
   ]
  },
  {
   "cell_type": "code",
   "execution_count": 6,
   "metadata": {},
   "outputs": [
    {
     "name": "stderr",
     "output_type": "stream",
     "text": [
      "WARNING: FITSFixedWarning: The WCS transformation has more axes (3) than the image it is associated with (2) [astropy.wcs.wcs]\n",
      "WARNING: FITSFixedWarning: 'datfix' made the change 'Set MJDREF to 59732.723557 from DATEREF.\n",
      "Set MJD-BEG to 59732.723557 from DATE-BEG.\n",
      "Set MJD-AVG to 59732.723557 from DATE-AVG.\n",
      "Set MJD-END to 59732.723557 from DATE-END'. [astropy.wcs.wcs]\n",
      "WARNING: FITSFixedWarning: 'obsfix' made the change 'Set OBSGEO-L to  -156.256400 from OBSGEO-[XYZ].\n",
      "Set OBSGEO-B to    20.706700 from OBSGEO-[XYZ].\n",
      "Set OBSGEO-H to     3063.997 from OBSGEO-[XYZ]'. [astropy.wcs.wcs]\n",
      "WARNING: FITSFixedWarning: The WCS transformation has more axes (3) than the image it is associated with (2) [astropy.wcs.wcs]\n",
      "WARNING: FITSFixedWarning: 'datfix' made the change 'Set MJDREF to 59732.723874 from DATEREF.\n",
      "Set MJD-BEG to 59732.723874 from DATE-BEG.\n",
      "Set MJD-AVG to 59732.723874 from DATE-AVG.\n",
      "Set MJD-END to 59732.723874 from DATE-END'. [astropy.wcs.wcs]\n",
      "WARNING: FITSFixedWarning: 'obsfix' made the change 'Set OBSGEO-L to  -156.256400 from OBSGEO-[XYZ].\n",
      "Set OBSGEO-B to    20.706700 from OBSGEO-[XYZ].\n",
      "Set OBSGEO-H to     3063.997 from OBSGEO-[XYZ]'. [astropy.wcs.wcs]\n",
      "WARNING: FITSFixedWarning: The WCS transformation has more axes (3) than the image it is associated with (2) [astropy.wcs.wcs]\n",
      "WARNING: FITSFixedWarning: 'datfix' made the change 'Set MJDREF to 59732.724192 from DATEREF.\n",
      "Set MJD-BEG to 59732.724192 from DATE-BEG.\n",
      "Set MJD-AVG to 59732.724192 from DATE-AVG.\n",
      "Set MJD-END to 59732.724192 from DATE-END'. [astropy.wcs.wcs]\n",
      "WARNING: FITSFixedWarning: 'obsfix' made the change 'Set OBSGEO-L to  -156.256400 from OBSGEO-[XYZ].\n",
      "Set OBSGEO-B to    20.706700 from OBSGEO-[XYZ].\n",
      "Set OBSGEO-H to     3063.997 from OBSGEO-[XYZ]'. [astropy.wcs.wcs]\n"
     ]
    }
   ],
   "source": [
    "wcs_CaII = copy.deepcopy(WCS(ds_CaII[0,0].headers[0]).celestial)\n",
    "wcs_CaII.wcs.crpix = 6144.5, 6144.5\n",
    "wcs_CaII.wcs.crval = -619.0/3600., -413.0/3600.\n",
    "\n",
    "wcs_Gband = copy.deepcopy(WCS(ds_Gband[0,0].headers[0]).celestial)\n",
    "wcs_Gband.wcs.crpix = 6144.5, 6144.5\n",
    "wcs_Gband.wcs.crval = -619.0/3600., -413.0/3600.\n",
    "\n",
    "wcs_Hbeta = copy.deepcopy(WCS(ds_Hbeta[0,0].headers[0]).celestial)\n",
    "wcs_Hbeta.wcs.crpix = 6144.5, 6144.5\n",
    "wcs_Hbeta.wcs.crval = -619.0/3600., -413.0/3600.\n"
   ]
  },
  {
   "cell_type": "code",
   "execution_count": 13,
   "metadata": {},
   "outputs": [
    {
     "ename": "",
     "evalue": "",
     "output_type": "error",
     "traceback": [
      "\u001b[1;31mCanceled future for execute_request message before replies were done"
     ]
    },
    {
     "ename": "",
     "evalue": "",
     "output_type": "error",
     "traceback": [
      "\u001b[1;31mThe Kernel crashed while executing code in the the current cell or a previous cell. Please review the code in the cell(s) to identify a possible cause of the failure. Click <a href='https://aka.ms/vscodeJupyterKernelCrash'>here</a> for more info. View Jupyter <a href='command:jupyter.viewOutput'>log</a> for further details."
     ]
    }
   ],
   "source": [
    "fig = plt.figure(figsize=(12,5),constrained_layout=True)\n",
    "\n",
    "ax1 = fig.add_subplot(1,3,1,projection=wcs_Gband)\n",
    "ax1.imshow(Gband_image, origin=\"lower\", cmap=\"Greys_r\",vmin=1e4,vmax=6e4)\n",
    "ax1.set_title(r\"\\textbf{G-band \"+ds_Gband[0,0].headers[5][\"DATE-AVG\"][10:19] + r\"}\",fontsize=18)\n",
    "\n",
    "ax2 = fig.add_subplot(1,3,2,projection=wcs_Hbeta)\n",
    "ax2.imshow(Hbeta_image, origin=\"lower\", cmap=\"Greys_r\",vmin=1e4,vmax=6e4)\n",
    "ax2.set_title(r\"\\textbf{H}$\\boldsymbol{\\beta}$ \\textbf{\"+ds_Hbeta[0,0].headers[5][\"DATE-AVG\"][10:19] + r\"}\",fontsize=18)\n",
    "\n",
    "ax3 = fig.add_subplot(1,3,3,projection=wcs_CaII)\n",
    "ax3.imshow(CaII_image, origin=\"lower\", cmap=\"Greys_r\",vmin=0,vmax=5e4)\n",
    "ax3.set_title(r\"\\textbf{Ca \\textsc{ii} K\"+ds_CaII[0,0].headers[5][\"DATE-AVG\"][10:19] + r\"}\",fontsize=18)\n",
    "\n",
    "for ax_ in (ax1, ax2, ax3):\n",
    "    ax_.tick_params(labelsize=18,direction=\"in\")\n",
    "    ax_.set_ylabel(\" \")\n",
    "    ax_.set_xlabel(r\"\\textbf{SOLAR-X [arcsec]}\",fontsize=18)\n",
    "ax1.set_ylabel(r\"\\textbf{SOLAR-Y [arcsec]}\",fontsize=18)\n",
    "\n",
    "\n"
   ]
  },
  {
   "cell_type": "code",
   "execution_count": 12,
   "metadata": {},
   "outputs": [
    {
     "data": {
      "text/plain": [
       "(array([1.4200000e+02, 4.0500000e+02, 1.0308999e+07, 9.5913826e+07,\n",
       "        1.2211731e+07, 7.1008000e+04, 7.5840000e+03, 2.9730000e+03,\n",
       "        1.7460000e+03, 1.1030000e+03]),\n",
       " array([     0.,  10000.,  20000.,  30000.,  40000.,  50000.,  60000.,\n",
       "         70000.,  80000.,  90000., 100000.]),\n",
       " <BarContainer object of 10 artists>)"
      ]
     },
     "execution_count": 12,
     "metadata": {},
     "output_type": "execute_result"
    },
    {
     "data": {
      "image/png": "[encoded data removed]",
      "text/plain": [
       "<Figure size 640x480 with 1 Axes>"
      ]
     },
     "metadata": {},
     "output_type": "display_data"
    }
   ],
   "source": [
    "plt.hist(Hbeta_image.flatten(),range=(0,1e5))"
   ]
  }
 ],
 "metadata": {
  "kernelspec": {
   "display_name": "dkist",
   "language": "python",
   "name": "python3"
  },
  "language_info": {
   "codemirror_mode": {
    "name": "ipython",
    "version": 3
   },
   "file_extension": ".py",
   "mimetype": "text/x-python",
   "name": "python",
   "nbconvert_exporter": "python",
   "pygments_lexer": "ipython3",
   "version": "3.9.16"
  },
  "orig_nbformat": 4,
  "vscode": {
   "interpreter": {
    "hash": "477fe08aaa1378153e27c0aa7670cdef2eb1162c447fe8192f5d3f2fc15d2fe0"
   }
  }
 },
 "nbformat": 4,
 "nbformat_minor": 2
}
